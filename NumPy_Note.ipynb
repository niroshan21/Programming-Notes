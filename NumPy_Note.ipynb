{
 "cells": [
  {
   "cell_type": "markdown",
   "id": "6ebe0482",
   "metadata": {},
   "source": [
    "# NumPy Library"
   ]
  },
  {
   "cell_type": "markdown",
   "id": "ac67116a",
   "metadata": {},
   "source": [
    "Lits are slow. NumPy are very fast.  \n",
    "Numpy has relatively low number of bits.(Faster to read less bytes of memory.)   \n",
    "No type checking when iterating through objects.\n",
    "\n",
    "\n",
    "Lists - Insertion, Deletion, Appending, Concatenation etc.    \n",
    "NumPy - Insertion, Deletion, Appending, Concatenation etc. + Lots more\n",
    "\n",
    "\n",
    "Import the NumPy module:"
   ]
  },
  {
   "cell_type": "code",
   "execution_count": 1,
   "id": "1acad420",
   "metadata": {},
   "outputs": [],
   "source": [
    "import numpy as np"
   ]
  },
  {
   "cell_type": "markdown",
   "id": "3fee9078",
   "metadata": {},
   "source": [
    "Create a List and a NumPy"
   ]
  },
  {
   "cell_type": "code",
   "execution_count": 3,
   "id": "3e37a2d1",
   "metadata": {},
   "outputs": [],
   "source": [
    "a = [1,3,5]\n",
    "b = [1,2,3] #list\n",
    "\n",
    "c = np.array([1,3,5])\n",
    "d = np.array([1,2,3]) #numpy"
   ]
  },
  {
   "cell_type": "markdown",
   "id": "51ecec46",
   "metadata": {},
   "source": [
    "We can multiply 2 numpy arrays.  \n",
    "a * b = Error  \n",
    "c * d = Okay"
   ]
  },
  {
   "cell_type": "code",
   "execution_count": 6,
   "id": "01a34578",
   "metadata": {},
   "outputs": [
    {
     "name": "stdout",
     "output_type": "stream",
     "text": [
      "[ 1  6 15]\n"
     ]
    }
   ],
   "source": [
    "print(c*d)"
   ]
  },
  {
   "cell_type": "markdown",
   "id": "ffb85180",
   "metadata": {},
   "source": [
    "#### Applications of NumPy  \n",
    "\n",
    "Mathematics (MATLAB)            \n",
    "Plotting (Matplotlib)                             \n",
    "Backend (Pandas, Connect 4, Digital Photography)                   \n",
    "Machine Learning               "
   ]
  },
  {
   "cell_type": "code",
   "execution_count": 13,
   "id": "b40ea94b",
   "metadata": {},
   "outputs": [
    {
     "name": "stdout",
     "output_type": "stream",
     "text": [
      "[[0.2 1.5 0.8]\n",
      " [1.2 0.7 1. ]\n",
      " [0.1 1.3 0.5]]\n"
     ]
    }
   ],
   "source": [
    "#Two dimentional array.\n",
    "e = np.array([[0.2,1.5,0.8],[1.2,0.7,1],[0.1,1.3,0.5]]) \n",
    "\n",
    "print(e)"
   ]
  },
  {
   "cell_type": "code",
   "execution_count": 8,
   "id": "db65c8be",
   "metadata": {},
   "outputs": [
    {
     "name": "stdout",
     "output_type": "stream",
     "text": [
      "[[[1 2]\n",
      "  [3 4]]\n",
      "\n",
      " [[5 6]\n",
      "  [7 8]]]\n"
     ]
    }
   ],
   "source": [
    "#Three dimentional array.\n",
    "f = np.array([[[1,2],[3,4]],[[5,6],[7,8]]]) \n",
    "\n",
    "print(f)"
   ]
  },
  {
   "cell_type": "markdown",
   "id": "a1c4a5c6",
   "metadata": {},
   "source": [
    "How we get the dimention, shape and data type of a array?"
   ]
  },
  {
   "cell_type": "code",
   "execution_count": 10,
   "id": "d08efcca",
   "metadata": {},
   "outputs": [
    {
     "name": "stdout",
     "output_type": "stream",
     "text": [
      "3\n"
     ]
    }
   ],
   "source": [
    "#Get Dimention\n",
    "print(f.ndim)"
   ]
  },
  {
   "cell_type": "code",
   "execution_count": 12,
   "id": "63cdfa4f",
   "metadata": {},
   "outputs": [
    {
     "name": "stdout",
     "output_type": "stream",
     "text": [
      "(3,)\n",
      "(3, 3)\n",
      "(2, 2, 2)\n"
     ]
    }
   ],
   "source": [
    "#Get Shape\n",
    "print(d.shape)\n",
    "print(e.shape)\n",
    "print(f.shape)"
   ]
  },
  {
   "cell_type": "code",
   "execution_count": 14,
   "id": "0bd462a3",
   "metadata": {
    "scrolled": true
   },
   "outputs": [
    {
     "name": "stdout",
     "output_type": "stream",
     "text": [
      "int32\n",
      "float64\n",
      "int32\n"
     ]
    }
   ],
   "source": [
    "#Get Data Type\n",
    "print(d.dtype)\n",
    "print(e.dtype)\n",
    "print(f.dtype)"
   ]
  },
  {
   "cell_type": "markdown",
   "id": "66b859a3",
   "metadata": {},
   "source": [
    "We can set the data type and size for an array manually.   \n",
    "Defalt size of a integer is 32 bits.  \n",
    "Defalt size of a float is 64 bits.   \n",
    "But we can change it."
   ]
  },
  {
   "cell_type": "code",
   "execution_count": 22,
   "id": "cd8836cc",
   "metadata": {},
   "outputs": [
    {
     "name": "stdout",
     "output_type": "stream",
     "text": [
      "int16\n"
     ]
    }
   ],
   "source": [
    "g = np.array([[1,2,5],[3,6,4]] , dtype = 'int16')\n",
    "\n",
    "print(g.dtype)"
   ]
  },
  {
   "cell_type": "code",
   "execution_count": 25,
   "id": "961915af",
   "metadata": {},
   "outputs": [
    {
     "name": "stdout",
     "output_type": "stream",
     "text": [
      "2\n"
     ]
    }
   ],
   "source": [
    "# Get item size in bytes\n",
    "\n",
    "print(g.itemsize)"
   ]
  },
  {
   "cell_type": "markdown",
   "id": "24a43c86",
   "metadata": {},
   "source": [
    "## Accessing/ changing specific elements, rows, columns, etc."
   ]
  },
  {
   "cell_type": "code",
   "execution_count": 30,
   "id": "80cdc489",
   "metadata": {},
   "outputs": [
    {
     "name": "stdout",
     "output_type": "stream",
     "text": [
      "[[2 5 8 7 4 6 1]\n",
      " [8 6 2 3 6 9 4]]\n"
     ]
    }
   ],
   "source": [
    "a = np.array([[2,5,8,7,4,6,1],[8,6,2,3,6,9,4]])\n",
    "print(a)"
   ]
  },
  {
   "cell_type": "code",
   "execution_count": 31,
   "id": "89ebb1b1",
   "metadata": {},
   "outputs": [
    {
     "data": {
      "text/plain": [
       "9"
      ]
     },
     "execution_count": 31,
     "metadata": {},
     "output_type": "execute_result"
    }
   ],
   "source": [
    "# Get a specific element [row,column]\n",
    "a[1,-2]"
   ]
  },
  {
   "cell_type": "code",
   "execution_count": 32,
   "id": "48e0da08",
   "metadata": {},
   "outputs": [
    {
     "data": {
      "text/plain": [
       "array([2, 5, 8, 7, 4, 6, 1])"
      ]
     },
     "execution_count": 32,
     "metadata": {},
     "output_type": "execute_result"
    }
   ],
   "source": [
    "# Get a specific row\n",
    "a[0,:]"
   ]
  },
  {
   "cell_type": "code",
   "execution_count": 34,
   "id": "8ab508dc",
   "metadata": {},
   "outputs": [
    {
     "data": {
      "text/plain": [
       "array([7, 3])"
      ]
     },
     "execution_count": 34,
     "metadata": {},
     "output_type": "execute_result"
    }
   ],
   "source": [
    "# Get a specific column\n",
    "a[:,3]"
   ]
  },
  {
   "cell_type": "code",
   "execution_count": 39,
   "id": "0edd8d82",
   "metadata": {},
   "outputs": [
    {
     "name": "stdout",
     "output_type": "stream",
     "text": [
      "[2 3 6 9]\n",
      "[2 8 4]\n"
     ]
    }
   ],
   "source": [
    "# Getting a range [StartIndex : EndIndex : StepSize]\n",
    "print(  a[1,2:-1]  )\n",
    "print(  a[0,0:-2:2]  )"
   ]
  },
  {
   "cell_type": "code",
   "execution_count": 40,
   "id": "dd1d081b",
   "metadata": {},
   "outputs": [
    {
     "data": {
      "text/plain": [
       "array([[ 2,  5,  8,  7,  4,  6,  1],\n",
       "       [ 8,  6,  2,  3, 77,  9,  4]])"
      ]
     },
     "execution_count": 40,
     "metadata": {},
     "output_type": "execute_result"
    }
   ],
   "source": [
    "# Assign a element\n",
    "a[1,4] = 77\n",
    "\n",
    "a"
   ]
  },
  {
   "cell_type": "markdown",
   "id": "4718f690",
   "metadata": {},
   "source": [
    "3D Example"
   ]
  },
  {
   "cell_type": "code",
   "execution_count": 41,
   "id": "66c9e2c0",
   "metadata": {},
   "outputs": [
    {
     "name": "stdout",
     "output_type": "stream",
     "text": [
      "[[[1 2]\n",
      "  [3 4]]\n",
      "\n",
      " [[5 6]\n",
      "  [7 8]]]\n"
     ]
    }
   ],
   "source": [
    "b = np.array([[[1,2],[3,4]],[[5,6],[7,8]]]) \n",
    "\n",
    "print(b)"
   ]
  },
  {
   "cell_type": "code",
   "execution_count": 42,
   "id": "80095866",
   "metadata": {},
   "outputs": [
    {
     "data": {
      "text/plain": [
       "6"
      ]
     },
     "execution_count": 42,
     "metadata": {},
     "output_type": "execute_result"
    }
   ],
   "source": [
    "# Get specific element ( Layer , Row , Column)\n",
    "b[1,0,1]"
   ]
  },
  {
   "cell_type": "code",
   "execution_count": 45,
   "id": "354aa8ce",
   "metadata": {},
   "outputs": [
    {
     "data": {
      "text/plain": [
       "array([[2, 4],\n",
       "       [6, 8]])"
      ]
     },
     "execution_count": 45,
     "metadata": {},
     "output_type": "execute_result"
    }
   ],
   "source": [
    "b[:,:,1]"
   ]
  },
  {
   "cell_type": "code",
   "execution_count": 46,
   "id": "96d41ac4",
   "metadata": {},
   "outputs": [
    {
     "data": {
      "text/plain": [
       "array([[[ 1, 12],\n",
       "        [ 3, 45]],\n",
       "\n",
       "       [[ 5, 23],\n",
       "        [ 7, 15]]])"
      ]
     },
     "execution_count": 46,
     "metadata": {},
     "output_type": "execute_result"
    }
   ],
   "source": [
    "b[:,:,1] = [[12,45],[23,15]] #Replace a part of array\n",
    "b"
   ]
  },
  {
   "cell_type": "markdown",
   "id": "a54f0341",
   "metadata": {},
   "source": [
    "## Initializing Different Types of Arrays"
   ]
  },
  {
   "cell_type": "code",
   "execution_count": 56,
   "id": "0070e271",
   "metadata": {},
   "outputs": [
    {
     "data": {
      "text/plain": [
       "array([0., 0., 0., 0., 0.])"
      ]
     },
     "execution_count": 56,
     "metadata": {},
     "output_type": "execute_result"
    }
   ],
   "source": [
    "# All zeros matrix\n",
    "np.zeros((5))"
   ]
  },
  {
   "cell_type": "code",
   "execution_count": 58,
   "id": "7ba80ac5",
   "metadata": {},
   "outputs": [
    {
     "data": {
      "text/plain": [
       "array([[0., 0., 0., 0., 0.],\n",
       "       [0., 0., 0., 0., 0.],\n",
       "       [0., 0., 0., 0., 0.]])"
      ]
     },
     "execution_count": 58,
     "metadata": {},
     "output_type": "execute_result"
    }
   ],
   "source": [
    "np.zeros((3,5))"
   ]
  },
  {
   "cell_type": "code",
   "execution_count": 59,
   "id": "e7a32646",
   "metadata": {},
   "outputs": [
    {
     "data": {
      "text/plain": [
       "array([[[0., 0., 0., 0., 0.],\n",
       "        [0., 0., 0., 0., 0.],\n",
       "        [0., 0., 0., 0., 0.]],\n",
       "\n",
       "       [[0., 0., 0., 0., 0.],\n",
       "        [0., 0., 0., 0., 0.],\n",
       "        [0., 0., 0., 0., 0.]]])"
      ]
     },
     "execution_count": 59,
     "metadata": {},
     "output_type": "execute_result"
    }
   ],
   "source": [
    "np.zeros((2,3,5))"
   ]
  },
  {
   "cell_type": "code",
   "execution_count": 62,
   "id": "012b20c5",
   "metadata": {},
   "outputs": [
    {
     "data": {
      "text/plain": [
       "array([[1., 1., 1., 1.],\n",
       "       [1., 1., 1., 1.],\n",
       "       [1., 1., 1., 1.]])"
      ]
     },
     "execution_count": 62,
     "metadata": {},
     "output_type": "execute_result"
    }
   ],
   "source": [
    "# All ones Matrix \n",
    "np.ones((3,4))"
   ]
  },
  {
   "cell_type": "code",
   "execution_count": 63,
   "id": "8ac98919",
   "metadata": {},
   "outputs": [
    {
     "data": {
      "text/plain": [
       "array([[1, 1, 1, 1],\n",
       "       [1, 1, 1, 1],\n",
       "       [1, 1, 1, 1]], dtype=int8)"
      ]
     },
     "execution_count": 63,
     "metadata": {},
     "output_type": "execute_result"
    }
   ],
   "source": [
    "np.ones((3,4), dtype = 'int8')"
   ]
  },
  {
   "cell_type": "code",
   "execution_count": 66,
   "id": "55de2f54",
   "metadata": {},
   "outputs": [
    {
     "data": {
      "text/plain": [
       "array([[99., 99.],\n",
       "       [99., 99.]], dtype=float16)"
      ]
     },
     "execution_count": 66,
     "metadata": {},
     "output_type": "execute_result"
    }
   ],
   "source": [
    "# Any other Numbers\n",
    "np.full((2,2), 99, dtype = \"float16\")"
   ]
  },
  {
   "cell_type": "code",
   "execution_count": 67,
   "id": "ba349e50",
   "metadata": {},
   "outputs": [
    {
     "data": {
      "text/plain": [
       "array([[41, 41, 41, 41, 41, 41, 41],\n",
       "       [41, 41, 41, 41, 41, 41, 41]])"
      ]
     },
     "execution_count": 67,
     "metadata": {},
     "output_type": "execute_result"
    }
   ],
   "source": [
    "np.full(a.shape, 41)  "
   ]
  },
  {
   "cell_type": "code",
   "execution_count": 76,
   "id": "d9e35807",
   "metadata": {},
   "outputs": [
    {
     "data": {
      "text/plain": [
       "array([[1, 1, 1, 1, 1, 1, 1],\n",
       "       [1, 1, 1, 1, 1, 1, 1]])"
      ]
     },
     "execution_count": 76,
     "metadata": {},
     "output_type": "execute_result"
    }
   ],
   "source": [
    "# Any other number ( full_like )\n",
    "np.full_like(a,1)"
   ]
  },
  {
   "cell_type": "markdown",
   "id": "3376d537",
   "metadata": {},
   "source": [
    "## Random Numbers"
   ]
  },
  {
   "cell_type": "code",
   "execution_count": 69,
   "id": "28c7789c",
   "metadata": {},
   "outputs": [
    {
     "data": {
      "text/plain": [
       "array([[[0.81009706, 0.78402809, 0.65888975, 0.66205841],\n",
       "        [0.42866212, 0.96072963, 0.2487124 , 0.06395815],\n",
       "        [0.0658659 , 0.47046169, 0.42419809, 0.36523947]],\n",
       "\n",
       "       [[0.24954213, 0.9755726 , 0.57513631, 0.61817011],\n",
       "        [0.88294487, 0.18779316, 0.055669  , 0.34785316],\n",
       "        [0.81250654, 0.72888604, 0.82960141, 0.24201203]]])"
      ]
     },
     "execution_count": 69,
     "metadata": {},
     "output_type": "execute_result"
    }
   ],
   "source": [
    "np.random.rand(2,3,4)"
   ]
  },
  {
   "cell_type": "code",
   "execution_count": 70,
   "id": "cc748929",
   "metadata": {},
   "outputs": [
    {
     "data": {
      "text/plain": [
       "array([[0.03781254, 0.05490485, 0.04023838, 0.02055337, 0.84032057,\n",
       "        0.13877511, 0.04448558],\n",
       "       [0.72934291, 0.99230086, 0.75253448, 0.50494953, 0.96560288,\n",
       "        0.56976643, 0.01980667]])"
      ]
     },
     "execution_count": 70,
     "metadata": {},
     "output_type": "execute_result"
    }
   ],
   "source": [
    "np.random.random_sample(a.shape)"
   ]
  },
  {
   "cell_type": "code",
   "execution_count": 74,
   "id": "e164c7cd",
   "metadata": {},
   "outputs": [
    {
     "data": {
      "text/plain": [
       "array([[ 594, 1033],\n",
       "       [  81,  306]])"
      ]
     },
     "execution_count": 74,
     "metadata": {},
     "output_type": "execute_result"
    }
   ],
   "source": [
    "# Random integer values\n",
    "# np.random.randint(maximum value, size)\n",
    "\n",
    "np.random.randint(4200, size =(2,2))"
   ]
  },
  {
   "cell_type": "code",
   "execution_count": 75,
   "id": "4007d1c8",
   "metadata": {},
   "outputs": [
    {
     "data": {
      "text/plain": [
       "array([[25, 28,  7],\n",
       "       [ 6, 11, 29],\n",
       "       [31,  7, 12]])"
      ]
     },
     "execution_count": 75,
     "metadata": {},
     "output_type": "execute_result"
    }
   ],
   "source": [
    "# np.random.randint(minimum value, maximum value, size)\n",
    "\n",
    "np.random.randint(4,40, size =(3,3))"
   ]
  },
  {
   "cell_type": "code",
   "execution_count": 77,
   "id": "8d1375b1",
   "metadata": {},
   "outputs": [
    {
     "data": {
      "text/plain": [
       "array([[1., 0., 0., 0., 0.],\n",
       "       [0., 1., 0., 0., 0.],\n",
       "       [0., 0., 1., 0., 0.],\n",
       "       [0., 0., 0., 1., 0.],\n",
       "       [0., 0., 0., 0., 1.]])"
      ]
     },
     "execution_count": 77,
     "metadata": {},
     "output_type": "execute_result"
    }
   ],
   "source": [
    "# The identity matrix\n",
    "\n",
    "np.identity(5)"
   ]
  },
  {
   "cell_type": "code",
   "execution_count": 91,
   "id": "7ac9ec95",
   "metadata": {},
   "outputs": [
    {
     "data": {
      "text/plain": [
       "array([[1, 2, 3],\n",
       "       [1, 2, 3],\n",
       "       [1, 2, 3]])"
      ]
     },
     "execution_count": 91,
     "metadata": {},
     "output_type": "execute_result"
    }
   ],
   "source": [
    "# Repeat an array \n",
    "# np.repeat(array, x times, axis)\n",
    "arr = np.array([[1,2,3]])\n",
    "\n",
    "np.repeat(arr,3,axis = 0)"
   ]
  },
  {
   "cell_type": "code",
   "execution_count": 92,
   "id": "8b702199",
   "metadata": {
    "scrolled": true
   },
   "outputs": [
    {
     "data": {
      "text/plain": [
       "array([[1, 1, 1, 2, 2, 2, 3, 3, 3]])"
      ]
     },
     "execution_count": 92,
     "metadata": {},
     "output_type": "execute_result"
    }
   ],
   "source": [
    "np.repeat(arr,3,axis = 1)"
   ]
  },
  {
   "cell_type": "markdown",
   "id": "a7e9dc2c",
   "metadata": {},
   "source": [
    "Exercise 01"
   ]
  },
  {
   "cell_type": "code",
   "execution_count": 101,
   "id": "228270c5",
   "metadata": {},
   "outputs": [
    {
     "name": "stdout",
     "output_type": "stream",
     "text": [
      "[[1 1 1 1 1]\n",
      " [1 0 0 0 1]\n",
      " [1 0 9 0 1]\n",
      " [1 0 0 0 1]\n",
      " [1 1 1 1 1]]\n"
     ]
    }
   ],
   "source": [
    "output = np.ones((5,5), dtype = 'int16')\n",
    "output[1:4,1:4] = np.zeros((3,3))\n",
    "output[2,2] = 9\n",
    "print(output)"
   ]
  },
  {
   "cell_type": "code",
   "execution_count": 102,
   "id": "e6c26130",
   "metadata": {},
   "outputs": [
    {
     "name": "stdout",
     "output_type": "stream",
     "text": [
      "b =  [  1 100   3]\n",
      "a =  [  1 100   3]\n"
     ]
    }
   ],
   "source": [
    "a = np.array([1,2,3])\n",
    "b = a           # Let's asign a to b\n",
    "\n",
    "b[1] = 100 # Let's change b\n",
    "\n",
    "print('b = ',b)\n",
    "print('a = ',a)"
   ]
  },
  {
   "cell_type": "markdown",
   "id": "70ba0f6a",
   "metadata": {},
   "source": [
    "a also changed due to changing b. It is a problem"
   ]
  },
  {
   "cell_type": "code",
   "execution_count": 103,
   "id": "ae880387",
   "metadata": {},
   "outputs": [
    {
     "name": "stdout",
     "output_type": "stream",
     "text": [
      "b =  [  1 100   3]\n",
      "a =  [1 2 3]\n"
     ]
    }
   ],
   "source": [
    "# We can use copy function to overcome this issue.\n",
    "\n",
    "a = np.array([1,2,3])\n",
    "b = a.copy()           # Let's asign a to b\n",
    "\n",
    "b[1] = 100 # Let's change b\n",
    "\n",
    "print('b = ',b)\n",
    "print('a = ',a)"
   ]
  },
  {
   "cell_type": "markdown",
   "id": "ac6bb76a",
   "metadata": {},
   "source": [
    "## Mathematics"
   ]
  },
  {
   "cell_type": "code",
   "execution_count": 104,
   "id": "581b25b4",
   "metadata": {},
   "outputs": [],
   "source": [
    "a = np.array([1, 5, 8, 3, 9, 7, 2, 4, 6 ])\n",
    "b = np.array([45, 69, 12, 34, 28, 57, 19, 40, 58])"
   ]
  },
  {
   "cell_type": "code",
   "execution_count": 109,
   "id": "258a8dda",
   "metadata": {},
   "outputs": [
    {
     "name": "stdout",
     "output_type": "stream",
     "text": [
      "[46 74 20 37 37 64 21 44 64]\n"
     ]
    }
   ],
   "source": [
    "print(a + b)"
   ]
  },
  {
   "cell_type": "code",
   "execution_count": 110,
   "id": "d9626d35",
   "metadata": {},
   "outputs": [
    {
     "name": "stdout",
     "output_type": "stream",
     "text": [
      "[ 3  7 10  5 11  9  4  6  8]\n"
     ]
    }
   ],
   "source": [
    "print(a + 2)"
   ]
  },
  {
   "cell_type": "code",
   "execution_count": 111,
   "id": "faacd309",
   "metadata": {},
   "outputs": [
    {
     "name": "stdout",
     "output_type": "stream",
     "text": [
      "[-4  0  3 -2  4  2 -3 -1  1]\n"
     ]
    }
   ],
   "source": [
    "print(a - 5)"
   ]
  },
  {
   "cell_type": "code",
   "execution_count": 112,
   "id": "63564402",
   "metadata": {},
   "outputs": [
    {
     "name": "stdout",
     "output_type": "stream",
     "text": [
      "[ 1 25 64  9 81 49  4 16 36]\n"
     ]
    }
   ],
   "source": [
    "print(a ** 2)"
   ]
  },
  {
   "cell_type": "code",
   "execution_count": 116,
   "id": "53323961",
   "metadata": {},
   "outputs": [
    {
     "name": "stdout",
     "output_type": "stream",
     "text": [
      "[ 0.85090352 -0.11478481 -0.53657292  0.52908269  0.27090579  0.43616476\n",
      "  0.14987721  0.74511316  0.99287265]\n"
     ]
    }
   ],
   "source": [
    "print( np.sin(b) )"
   ]
  },
  {
   "cell_type": "markdown",
   "id": "dead4bdc",
   "metadata": {},
   "source": [
    "## Linear Algebra"
   ]
  },
  {
   "cell_type": "code",
   "execution_count": 125,
   "id": "358cd2e3",
   "metadata": {},
   "outputs": [
    {
     "name": "stdout",
     "output_type": "stream",
     "text": [
      "[[14 16 19]\n",
      " [13 14 25]]\n",
      "[[45 41 47 32]\n",
      " [36 44 38 35]\n",
      " [46 45 44 35]]\n"
     ]
    }
   ],
   "source": [
    "a = np.random.randint(10,30, size = (2,3))\n",
    "b = np.random.randint(30,50, size = (3,4))\n",
    "\n",
    "print(a)\n",
    "print(b)"
   ]
  },
  {
   "cell_type": "code",
   "execution_count": 128,
   "id": "b904bbcf",
   "metadata": {},
   "outputs": [
    {
     "name": "stdout",
     "output_type": "stream",
     "text": [
      "[[2080 2133 2102 1673]\n",
      " [2239 2274 2243 1781]]\n"
     ]
    }
   ],
   "source": [
    "# Matrix Multiplication (np.matmul)\n",
    "\n",
    "print(   np.matmul(a,b)    )"
   ]
  },
  {
   "cell_type": "code",
   "execution_count": 136,
   "id": "07620db5",
   "metadata": {},
   "outputs": [
    {
     "name": "stdout",
     "output_type": "stream",
     "text": [
      "27.0\n"
     ]
    }
   ],
   "source": [
    "# Determinant (np.linalg.det)\n",
    "c = np.identity(3) * 3\n",
    "\n",
    "print(   np.linalg.det(c)    )"
   ]
  },
  {
   "cell_type": "code",
   "execution_count": 137,
   "id": "bbfffb8d",
   "metadata": {},
   "outputs": [
    {
     "name": "stdout",
     "output_type": "stream",
     "text": [
      "42.46174749112429\n"
     ]
    }
   ],
   "source": [
    "# Matrix / Vector norm\n",
    "\n",
    "print(   np.linalg.norm(a)   )"
   ]
  },
  {
   "cell_type": "code",
   "execution_count": 145,
   "id": "5224a819",
   "metadata": {},
   "outputs": [
    {
     "name": "stdout",
     "output_type": "stream",
     "text": [
      "[[6 2 0 5]\n",
      " [3 4 1 2]\n",
      " [1 8 1 4]\n",
      " [7 1 0 2]]\n",
      "[11.53972505  4.45845178 -2.354197   -0.64397983]\n"
     ]
    }
   ],
   "source": [
    "# Eigen Values\n",
    "d = np.random.randint(9, size = (4,4))\n",
    "\n",
    "print(d)\n",
    "print(   np.linalg.eigvals(d)    )"
   ]
  },
  {
   "cell_type": "markdown",
   "id": "ee80d80d",
   "metadata": {},
   "source": [
    "#### More functions to linear algebra : https://numpy.org/doc/stable/reference/routines.linalg.html"
   ]
  },
  {
   "cell_type": "markdown",
   "id": "ce38aa88",
   "metadata": {},
   "source": [
    "## Statistics"
   ]
  },
  {
   "cell_type": "code",
   "execution_count": 147,
   "id": "04dd05b1",
   "metadata": {},
   "outputs": [
    {
     "name": "stdout",
     "output_type": "stream",
     "text": [
      "[[2 8 7]\n",
      " [6 9 1]]\n"
     ]
    }
   ],
   "source": [
    "stat = np.array([[2,8,7],[6,9,1]])\n",
    "print(stat)"
   ]
  },
  {
   "cell_type": "code",
   "execution_count": 152,
   "id": "6fb68d42",
   "metadata": {},
   "outputs": [
    {
     "data": {
      "text/plain": [
       "1"
      ]
     },
     "execution_count": 152,
     "metadata": {},
     "output_type": "execute_result"
    }
   ],
   "source": [
    "np.min(stat)    # The minimum value in the array"
   ]
  },
  {
   "cell_type": "code",
   "execution_count": 153,
   "id": "8bf6cf6a",
   "metadata": {},
   "outputs": [
    {
     "data": {
      "text/plain": [
       "array([2, 8, 1])"
      ]
     },
     "execution_count": 153,
     "metadata": {},
     "output_type": "execute_result"
    }
   ],
   "source": [
    "np.min(stat, axis = 0)   # Lowest values in each column"
   ]
  },
  {
   "cell_type": "code",
   "execution_count": 155,
   "id": "2c3b25e0",
   "metadata": {},
   "outputs": [
    {
     "data": {
      "text/plain": [
       "array([8, 9])"
      ]
     },
     "execution_count": 155,
     "metadata": {},
     "output_type": "execute_result"
    }
   ],
   "source": [
    "np.max(stat, axis = 1)"
   ]
  },
  {
   "cell_type": "code",
   "execution_count": 156,
   "id": "b7df7199",
   "metadata": {},
   "outputs": [
    {
     "data": {
      "text/plain": [
       "array([ 8, 17,  8])"
      ]
     },
     "execution_count": 156,
     "metadata": {},
     "output_type": "execute_result"
    }
   ],
   "source": [
    "np.sum(stat, axis = 0)    # Sum of each column"
   ]
  },
  {
   "cell_type": "markdown",
   "id": "a8332fc4",
   "metadata": {},
   "source": [
    "## Reorganizing Arrays"
   ]
  },
  {
   "cell_type": "code",
   "execution_count": 158,
   "id": "1dc44dcb",
   "metadata": {},
   "outputs": [
    {
     "name": "stdout",
     "output_type": "stream",
     "text": [
      "[[1 2 3 4]\n",
      " [5 6 7 8]]\n",
      "(2, 4)\n"
     ]
    }
   ],
   "source": [
    "before = np.array([[1,2,3,4],[5,6,7,8]])\n",
    "print(before)\n",
    "print(before.shape)"
   ]
  },
  {
   "cell_type": "code",
   "execution_count": 159,
   "id": "b307e38e",
   "metadata": {},
   "outputs": [
    {
     "data": {
      "text/plain": [
       "array([[1, 2, 3, 4, 5, 6, 7, 8]])"
      ]
     },
     "execution_count": 159,
     "metadata": {},
     "output_type": "execute_result"
    }
   ],
   "source": [
    "# Reshape\n",
    "before.reshape((1,8))"
   ]
  },
  {
   "cell_type": "code",
   "execution_count": 160,
   "id": "8f84cd63",
   "metadata": {},
   "outputs": [
    {
     "data": {
      "text/plain": [
       "array([[1],\n",
       "       [2],\n",
       "       [3],\n",
       "       [4],\n",
       "       [5],\n",
       "       [6],\n",
       "       [7],\n",
       "       [8]])"
      ]
     },
     "execution_count": 160,
     "metadata": {},
     "output_type": "execute_result"
    }
   ],
   "source": [
    "before.reshape((8,1))"
   ]
  },
  {
   "cell_type": "code",
   "execution_count": 161,
   "id": "941fc190",
   "metadata": {},
   "outputs": [
    {
     "data": {
      "text/plain": [
       "array([[[1, 2],\n",
       "        [3, 4]],\n",
       "\n",
       "       [[5, 6],\n",
       "        [7, 8]]])"
      ]
     },
     "execution_count": 161,
     "metadata": {},
     "output_type": "execute_result"
    }
   ],
   "source": [
    "before.reshape((2,2,2))"
   ]
  },
  {
   "cell_type": "code",
   "execution_count": 162,
   "id": "018e9720",
   "metadata": {},
   "outputs": [
    {
     "data": {
      "text/plain": [
       "array([[1, 2, 3, 4],\n",
       "       [5, 6, 7, 8],\n",
       "       [1, 2, 3, 4],\n",
       "       [5, 6, 7, 8],\n",
       "       [5, 6, 7, 8]])"
      ]
     },
     "execution_count": 162,
     "metadata": {},
     "output_type": "execute_result"
    }
   ],
   "source": [
    "# Vertically stacking vectors (vstack)\n",
    "v1 = np.array([1,2,3,4])\n",
    "v2 = np.array([5,6,7,8])\n",
    "\n",
    "np.vstack([v1,v2,v1,v2,v2])"
   ]
  },
  {
   "cell_type": "code",
   "execution_count": 164,
   "id": "0a077a11",
   "metadata": {},
   "outputs": [
    {
     "data": {
      "text/plain": [
       "array([5, 6, 7, 8, 1, 2, 3, 4])"
      ]
     },
     "execution_count": 164,
     "metadata": {},
     "output_type": "execute_result"
    }
   ],
   "source": [
    "# Horizontal stacking vectors (hstack)\n",
    "h1 = np.array([1,2,3,4])\n",
    "h2 = np.array([5,6,7,8])\n",
    "\n",
    "np.hstack([h2,h1])"
   ]
  },
  {
   "cell_type": "markdown",
   "id": "33cf97ac",
   "metadata": {},
   "source": [
    "## Miscellaneous\n",
    "\n",
    "#### Load data from file         \n",
    "#### np.genfromtxt( file, delimeter =',')"
   ]
  },
  {
   "cell_type": "code",
   "execution_count": 178,
   "id": "f39df160",
   "metadata": {},
   "outputs": [
    {
     "name": "stdout",
     "output_type": "stream",
     "text": [
      "[[  1  13  21  11 196  75   4   3  34   6   7   8   0   1   2   3   4   5]\n",
      " [  3  42  12  33 766  75   4  55   6   4   3   4   5   6   7   0  11  12]\n",
      " [  1  22  33  11 999  11   2   1  78   0   2   1   9   8   7   1  76  88]]\n"
     ]
    }
   ],
   "source": [
    "filedata = np.genfromtxt(\"data.txt\", delimiter=\",\")\n",
    "\n",
    "filedata = filedata.astype('int32')\n",
    "\n",
    "print(filedata)"
   ]
  },
  {
   "cell_type": "markdown",
   "id": "84e5480d",
   "metadata": {},
   "source": [
    "#### Boolean masking and advance indexing"
   ]
  },
  {
   "cell_type": "code",
   "execution_count": 179,
   "id": "26df335f",
   "metadata": {},
   "outputs": [
    {
     "data": {
      "text/plain": [
       "array([[False, False, False, False,  True,  True, False, False, False,\n",
       "        False, False, False, False, False, False, False, False, False],\n",
       "       [False, False, False, False,  True,  True, False,  True, False,\n",
       "        False, False, False, False, False, False, False, False, False],\n",
       "       [False, False, False, False,  True, False, False, False,  True,\n",
       "        False, False, False, False, False, False, False,  True,  True]])"
      ]
     },
     "execution_count": 179,
     "metadata": {},
     "output_type": "execute_result"
    }
   ],
   "source": [
    "filedata > 50"
   ]
  },
  {
   "cell_type": "code",
   "execution_count": 182,
   "id": "c53446d2",
   "metadata": {},
   "outputs": [
    {
     "data": {
      "text/plain": [
       "array([196,  75, 766,  75,  55, 999,  78,  76,  88])"
      ]
     },
     "execution_count": 182,
     "metadata": {},
     "output_type": "execute_result"
    }
   ],
   "source": [
    "filedata[filedata > 50]"
   ]
  },
  {
   "cell_type": "code",
   "execution_count": 183,
   "id": "81d1fdff",
   "metadata": {},
   "outputs": [
    {
     "data": {
      "text/plain": [
       "array([2, 5, 8])"
      ]
     },
     "execution_count": 183,
     "metadata": {},
     "output_type": "execute_result"
    }
   ],
   "source": [
    "a = np.array([1,2,3,4,5,6,7,8,9])\n",
    "\n",
    "# You can index with a list a NumPy\n",
    "a[[1,4,7]]"
   ]
  },
  {
   "cell_type": "code",
   "execution_count": 192,
   "id": "f4d58898",
   "metadata": {},
   "outputs": [
    {
     "name": "stdout",
     "output_type": "stream",
     "text": [
      "[[ 1  2  3  4  5]\n",
      " [ 6  7  8  9 10]\n",
      " [11 12 13 14 15]\n",
      " [16 17 18 19 20]\n",
      " [21 22 23 24 25]\n",
      " [26 27 28 29 30]]\n"
     ]
    }
   ],
   "source": [
    "b = np.array([[1,2,3,4,5],[6,7,8,9,10],[11,12,13,14,15],[16,17,18,19,20],[21,22,23,24,25],[26,27,28,29,30]])\n",
    "print(b)"
   ]
  },
  {
   "cell_type": "code",
   "execution_count": 194,
   "id": "cf0a9e63",
   "metadata": {},
   "outputs": [
    {
     "data": {
      "text/plain": [
       "array([ 2,  8, 14, 20])"
      ]
     },
     "execution_count": 194,
     "metadata": {},
     "output_type": "execute_result"
    }
   ],
   "source": [
    "b[[0,1,2,3],[1,2,3,4]]"
   ]
  },
  {
   "cell_type": "code",
   "execution_count": 195,
   "id": "42a671f1",
   "metadata": {},
   "outputs": [
    {
     "data": {
      "text/plain": [
       "array([[ 4,  5],\n",
       "       [24, 25],\n",
       "       [29, 30]])"
      ]
     },
     "execution_count": 195,
     "metadata": {},
     "output_type": "execute_result"
    }
   ],
   "source": [
    "b[[0,4,5], 3:]"
   ]
  },
  {
   "cell_type": "markdown",
   "id": "1866e3d0",
   "metadata": {},
   "source": [
    "#### Boolean"
   ]
  },
  {
   "cell_type": "code",
   "execution_count": 184,
   "id": "1c872198",
   "metadata": {},
   "outputs": [
    {
     "data": {
      "text/plain": [
       "array([False, False, False, False,  True,  True, False,  True,  True,\n",
       "       False, False, False, False, False, False, False,  True,  True])"
      ]
     },
     "execution_count": 184,
     "metadata": {},
     "output_type": "execute_result"
    }
   ],
   "source": [
    "np.any(filedata>50 , axis=0)"
   ]
  },
  {
   "cell_type": "code",
   "execution_count": 185,
   "id": "d00cdb69",
   "metadata": {},
   "outputs": [
    {
     "data": {
      "text/plain": [
       "array([False, False, False, False,  True, False, False, False, False,\n",
       "       False, False, False, False, False, False, False, False, False])"
      ]
     },
     "execution_count": 185,
     "metadata": {},
     "output_type": "execute_result"
    }
   ],
   "source": [
    "np.all(filedata>50 , axis=0)"
   ]
  },
  {
   "cell_type": "code",
   "execution_count": 187,
   "id": "5fd67b1b",
   "metadata": {},
   "outputs": [
    {
     "data": {
      "text/plain": [
       "array([ True,  True,  True])"
      ]
     },
     "execution_count": 187,
     "metadata": {},
     "output_type": "execute_result"
    }
   ],
   "source": [
    "np.any(filedata>50 , axis=1)"
   ]
  },
  {
   "cell_type": "code",
   "execution_count": 188,
   "id": "09d1465b",
   "metadata": {},
   "outputs": [
    {
     "data": {
      "text/plain": [
       "array([False, False, False])"
      ]
     },
     "execution_count": 188,
     "metadata": {},
     "output_type": "execute_result"
    }
   ],
   "source": [
    "np.all(filedata>50 , axis=1)"
   ]
  },
  {
   "cell_type": "code",
   "execution_count": 190,
   "id": "95776fc3",
   "metadata": {},
   "outputs": [
    {
     "data": {
      "text/plain": [
       "array([[False, False, False, False, False,  True, False, False, False,\n",
       "        False, False, False, False, False, False, False, False, False],\n",
       "       [False, False, False, False, False,  True, False,  True, False,\n",
       "        False, False, False, False, False, False, False, False, False],\n",
       "       [False, False, False, False, False, False, False, False,  True,\n",
       "        False, False, False, False, False, False, False,  True,  True]])"
      ]
     },
     "execution_count": 190,
     "metadata": {},
     "output_type": "execute_result"
    }
   ],
   "source": [
    "((filedata>50) & (filedata<100))"
   ]
  },
  {
   "cell_type": "code",
   "execution_count": 191,
   "id": "672954ea",
   "metadata": {},
   "outputs": [
    {
     "data": {
      "text/plain": [
       "array([[ True,  True,  True,  True,  True, False,  True,  True,  True,\n",
       "         True,  True,  True,  True,  True,  True,  True,  True,  True],\n",
       "       [ True,  True,  True,  True,  True, False,  True, False,  True,\n",
       "         True,  True,  True,  True,  True,  True,  True,  True,  True],\n",
       "       [ True,  True,  True,  True,  True,  True,  True,  True, False,\n",
       "         True,  True,  True,  True,  True,  True,  True, False, False]])"
      ]
     },
     "execution_count": 191,
     "metadata": {},
     "output_type": "execute_result"
    }
   ],
   "source": [
    "(~((filedata>50) & (filedata<100)))"
   ]
  },
  {
   "cell_type": "code",
   "execution_count": null,
   "id": "54819a83",
   "metadata": {},
   "outputs": [],
   "source": []
  }
 ],
 "metadata": {
  "kernelspec": {
   "display_name": "Python 3 (ipykernel)",
   "language": "python",
   "name": "python3"
  },
  "language_info": {
   "codemirror_mode": {
    "name": "ipython",
    "version": 3
   },
   "file_extension": ".py",
   "mimetype": "text/x-python",
   "name": "python",
   "nbconvert_exporter": "python",
   "pygments_lexer": "ipython3",
   "version": "3.10.5"
  }
 },
 "nbformat": 4,
 "nbformat_minor": 5
}
